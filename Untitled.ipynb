{
 "cells": [
  {
   "cell_type": "code",
   "execution_count": 1,
   "metadata": {},
   "outputs": [
    {
     "name": "stdout",
     "output_type": "stream",
     "text": [
      "INFO: Pandarallel will run on 9 workers.\n",
      "INFO: Pandarallel will use Memory file system to transfer data between the main process and workers.\n"
     ]
    }
   ],
   "source": [
    "import pandas as pd\n",
    "from pandarallel import pandarallel\n",
    "from tqdm import tqdm\n",
    "\n",
    "pandarallel.initialize(nb_workers=9)"
   ]
  },
  {
   "cell_type": "code",
   "execution_count": 2,
   "metadata": {},
   "outputs": [],
   "source": [
    "from itertools import islice\n",
    "import re\n",
    "\n",
    "from khaiii import KhaiiiApi\n",
    "from itertools import chain\n",
    "\n",
    "api = KhaiiiApi()\n",
    "def tokenize(text):\n",
    "    if len(text.replace(' ', '')) == 0:\n",
    "        return list()\n",
    "    morphs = list(chain(*[w.morphs for w in api.analyze(text)]))\n",
    "    return [(m.lex, m.tag) for m in morphs]\n",
    "\n",
    "def cleanse_text(text):\n",
    "    text = text.replace('_', ' ')\n",
    "    return re.sub('[^0-9a-zA-Zㄱ-힗 ]', '', text)\n",
    "\n",
    "def window(seq, n=2):\n",
    "    it = iter(seq)\n",
    "    result = tuple(islice(it, n))\n",
    "    if len(result) == n:\n",
    "        yield result\n",
    "    for elem in it:\n",
    "        result = result[1:] + (elem,)\n",
    "        yield result\n",
    "        \n",
    "def tag_filter(tag):\n",
    "    if tag.startswith('N'):\n",
    "        return True\n",
    "    elif tag.startswith('V'):\n",
    "        return True\n",
    "    elif tag.startswith('S'):\n",
    "        return True\n",
    "    elif tag == 'XR':\n",
    "        return True\n",
    "    elif tag.startswith('M'):\n",
    "        return True\n",
    "    else:\n",
    "        return False\n",
    "\n",
    "def preprocess_tags(tags):\n",
    "    return list(set(tags))\n",
    "\n",
    "def preprocess_title(title):\n",
    "\n",
    "    \n",
    "    return title.split(' ')\n",
    "\n",
    "def preprocess_text(df):\n",
    "    df['p_title'] = df['plylst_title'].parallel_map(lambda x: preprocess_title(x))\n",
    "    df['p_tags'] = df['tags'].parallel_map(lambda x: preprocess_tags(x))\n",
    "    \n",
    "    df['p_all'] = df['songs'] + df['p_tags'] + df['p_title']"
   ]
  },
  {
   "cell_type": "code",
   "execution_count": 3,
   "metadata": {},
   "outputs": [],
   "source": [
    "df = pd.read_json('./data/train.json')\n",
    "df['p_title'] = df['plylst_title'].parallel_map(lambda x: preprocess_title(x))\n",
    "df['p_tags'] = df['tags'].parallel_map(lambda x: preprocess_tags(x))\n",
    "\n",
    "df['p_all'] = df['songs'] + df['p_tags'] + df['p_title']"
   ]
  },
  {
   "cell_type": "code",
   "execution_count": 5,
   "metadata": {},
   "outputs": [
    {
     "data": {
      "text/plain": [
       "[525514,\n",
       " 129701,\n",
       " 383374,\n",
       " 562083,\n",
       " 297861,\n",
       " 139541,\n",
       " 351214,\n",
       " 650298,\n",
       " 531057,\n",
       " 205238,\n",
       " 706183,\n",
       " 127099,\n",
       " 660493,\n",
       " 461973,\n",
       " 121455,\n",
       " 72552,\n",
       " 223955,\n",
       " 324992,\n",
       " 50104,\n",
       " '락',\n",
       " '여행같은',\n",
       " '음악']"
      ]
     },
     "execution_count": 5,
     "metadata": {},
     "output_type": "execute_result"
    }
   ],
   "source": [
    "df['p_all'][0]"
   ]
  },
  {
   "cell_type": "code",
   "execution_count": null,
   "metadata": {},
   "outputs": [],
   "source": []
  }
 ],
 "metadata": {
  "kernelspec": {
   "display_name": "Python 3",
   "language": "python",
   "name": "python3"
  },
  "language_info": {
   "codemirror_mode": {
    "name": "ipython",
    "version": 3
   },
   "file_extension": ".py",
   "mimetype": "text/x-python",
   "name": "python",
   "nbconvert_exporter": "python",
   "pygments_lexer": "ipython3",
   "version": "3.7.7"
  }
 },
 "nbformat": 4,
 "nbformat_minor": 4
}
