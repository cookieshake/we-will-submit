{
 "cells": [
  {
   "cell_type": "code",
   "execution_count": 1,
   "metadata": {},
   "outputs": [
    {
     "data": {
      "text/html": [
       "<div>\n",
       "<style scoped>\n",
       "    .dataframe tbody tr th:only-of-type {\n",
       "        vertical-align: middle;\n",
       "    }\n",
       "\n",
       "    .dataframe tbody tr th {\n",
       "        vertical-align: top;\n",
       "    }\n",
       "\n",
       "    .dataframe thead th {\n",
       "        text-align: right;\n",
       "    }\n",
       "</style>\n",
       "<table border=\"1\" class=\"dataframe\">\n",
       "  <thead>\n",
       "    <tr style=\"text-align: right;\">\n",
       "      <th></th>\n",
       "      <th>tags</th>\n",
       "      <th>id</th>\n",
       "      <th>plylst_title</th>\n",
       "      <th>songs</th>\n",
       "      <th>like_cnt</th>\n",
       "      <th>updt_date</th>\n",
       "    </tr>\n",
       "  </thead>\n",
       "  <tbody>\n",
       "    <tr>\n",
       "      <th>0</th>\n",
       "      <td>[락]</td>\n",
       "      <td>61281</td>\n",
       "      <td>여행같은 음악</td>\n",
       "      <td>[525514, 129701, 383374, 562083, 297861, 13954...</td>\n",
       "      <td>71</td>\n",
       "      <td>2013-12-19 18:36:19.000</td>\n",
       "    </tr>\n",
       "    <tr>\n",
       "      <th>1</th>\n",
       "      <td>[추억, 회상]</td>\n",
       "      <td>10532</td>\n",
       "      <td>요즘 너 말야</td>\n",
       "      <td>[432406, 675945, 497066, 120377, 389529, 24427...</td>\n",
       "      <td>1</td>\n",
       "      <td>2014-12-02 16:19:42.000</td>\n",
       "    </tr>\n",
       "    <tr>\n",
       "      <th>2</th>\n",
       "      <td>[까페, 잔잔한]</td>\n",
       "      <td>76951</td>\n",
       "      <td>편하게, 잔잔하게 들을 수 있는 곡.-</td>\n",
       "      <td>[83116, 276692, 166267, 186301, 354465, 256598...</td>\n",
       "      <td>17</td>\n",
       "      <td>2017-08-28 07:09:34.000</td>\n",
       "    </tr>\n",
       "    <tr>\n",
       "      <th>3</th>\n",
       "      <td>[연말, 눈오는날, 캐럴, 분위기, 따듯한, 크리스마스캐럴, 겨울노래, 크리스마스,...</td>\n",
       "      <td>147456</td>\n",
       "      <td>크리스마스 분위기에 흠뻑 취하고 싶을때</td>\n",
       "      <td>[394031, 195524, 540149, 287984, 440773, 10033...</td>\n",
       "      <td>33</td>\n",
       "      <td>2019-12-05 15:15:18.000</td>\n",
       "    </tr>\n",
       "    <tr>\n",
       "      <th>4</th>\n",
       "      <td>[댄스]</td>\n",
       "      <td>27616</td>\n",
       "      <td>추억의 노래 ㅋ</td>\n",
       "      <td>[159327, 553610, 5130, 645103, 294435, 100657,...</td>\n",
       "      <td>9</td>\n",
       "      <td>2011-10-25 13:54:56.000</td>\n",
       "    </tr>\n",
       "  </tbody>\n",
       "</table>\n",
       "</div>"
      ],
      "text/plain": [
       "                                                tags      id  \\\n",
       "0                                                [락]   61281   \n",
       "1                                           [추억, 회상]   10532   \n",
       "2                                          [까페, 잔잔한]   76951   \n",
       "3  [연말, 눈오는날, 캐럴, 분위기, 따듯한, 크리스마스캐럴, 겨울노래, 크리스마스,...  147456   \n",
       "4                                               [댄스]   27616   \n",
       "\n",
       "            plylst_title                                              songs  \\\n",
       "0                여행같은 음악  [525514, 129701, 383374, 562083, 297861, 13954...   \n",
       "1                요즘 너 말야  [432406, 675945, 497066, 120377, 389529, 24427...   \n",
       "2  편하게, 잔잔하게 들을 수 있는 곡.-  [83116, 276692, 166267, 186301, 354465, 256598...   \n",
       "3  크리스마스 분위기에 흠뻑 취하고 싶을때  [394031, 195524, 540149, 287984, 440773, 10033...   \n",
       "4               추억의 노래 ㅋ  [159327, 553610, 5130, 645103, 294435, 100657,...   \n",
       "\n",
       "   like_cnt                updt_date  \n",
       "0        71  2013-12-19 18:36:19.000  \n",
       "1         1  2014-12-02 16:19:42.000  \n",
       "2        17  2017-08-28 07:09:34.000  \n",
       "3        33  2019-12-05 15:15:18.000  \n",
       "4         9  2011-10-25 13:54:56.000  "
      ]
     },
     "execution_count": 1,
     "metadata": {},
     "output_type": "execute_result"
    }
   ],
   "source": [
    "import pandas as pd\n",
    "\n",
    "SONG_MAX = 707989\n",
    "\n",
    "df = pd.read_json('./data/train.json')\n",
    "test_offset = len(df) - int(len(df) / 10)\n",
    "train_df, test_df = df[:test_offset], df[test_offset:]\n",
    "train_df.head(5)"
   ]
  },
  {
   "cell_type": "code",
   "execution_count": 2,
   "metadata": {},
   "outputs": [
    {
     "name": "stderr",
     "output_type": "stream",
     "text": [
      "100%|██████████| 103564/103564 [47:00<00:00, 36.71it/s] \n"
     ]
    }
   ],
   "source": [
    "from scipy.sparse import lil_matrix\n",
    "from tqdm import tqdm\n",
    "from fbpca import pca\n",
    "\n",
    "from itertools import combinations\n",
    "\n",
    "m = lil_matrix((SONG_MAX, SONG_MAX))\n",
    "for ss in tqdm(train_df['songs']):\n",
    "    for a, b in combinations(ss, 2):\n",
    "        m[a, b] += 1\n",
    "        m[b, a] += 1"
   ]
  },
  {
   "cell_type": "code",
   "execution_count": 2,
   "metadata": {},
   "outputs": [],
   "source": [
    "import pickle\n",
    "\n",
    "m = pickle.load(open('song_matrix.pickle', 'rb'))"
   ]
  },
  {
   "cell_type": "code",
   "execution_count": 9,
   "metadata": {},
   "outputs": [],
   "source": [
    "meanm = m.multiply(1 / (m.sum(axis=0).reshape(-1) + 1)).tocsr()"
   ]
  },
  {
   "cell_type": "code",
   "execution_count": 5,
   "metadata": {},
   "outputs": [
    {
     "data": {
      "text/plain": [
       "0.9950000000000007"
      ]
     },
     "execution_count": 5,
     "metadata": {},
     "output_type": "execute_result"
    }
   ],
   "source": [
    "meanm.tocsr()[:,55].sum()"
   ]
  },
  {
   "cell_type": "code",
   "execution_count": 45,
   "metadata": {},
   "outputs": [],
   "source": [
    "val = test_df.reset_index()['songs'][3343]\n",
    "train = test_df.reset_index()['songs'][3343][:10]"
   ]
  },
  {
   "cell_type": "code",
   "execution_count": 47,
   "metadata": {},
   "outputs": [],
   "source": [
    "import numpy as np\n",
    "\n",
    "pred = sum([meanm[:,song] for song in train])\n",
    "pred = np.asarray(pred.todense()).reshape(-1)\n",
    "pred = np.argpartition(pred, -100)[-100:]"
   ]
  },
  {
   "cell_type": "code",
   "execution_count": 48,
   "metadata": {},
   "outputs": [
    {
     "data": {
      "text/plain": [
       "0.41935483870967744"
      ]
     },
     "execution_count": 48,
     "metadata": {},
     "output_type": "execute_result"
    }
   ],
   "source": [
    "len((set(val) - set(train)) & set(pred)) / len((set(val) - set(train)))"
   ]
  },
  {
   "cell_type": "code",
   "execution_count": 46,
   "metadata": {},
   "outputs": [
    {
     "data": {
      "text/plain": [
       "[408064,\n",
       " 26254,\n",
       " 446812,\n",
       " 370250,\n",
       " 553171,\n",
       " 600074,\n",
       " 133484,\n",
       " 353211,\n",
       " 81072,\n",
       " 27469,\n",
       " 601037,\n",
       " 75971,\n",
       " 621152,\n",
       " 640657,\n",
       " 351342,\n",
       " 451454,\n",
       " 689661,\n",
       " 433145,\n",
       " 519391,\n",
       " 334539,\n",
       " 418905,\n",
       " 637570,\n",
       " 648635,\n",
       " 233166,\n",
       " 619548,\n",
       " 368015,\n",
       " 568906,\n",
       " 135462,\n",
       " 13519,\n",
       " 565154,\n",
       " 260612,\n",
       " 251656,\n",
       " 698536,\n",
       " 381056,\n",
       " 15910,\n",
       " 530256,\n",
       " 417744,\n",
       " 119603,\n",
       " 197064,\n",
       " 703096,\n",
       " 703051,\n",
       " 460823,\n",
       " 669693,\n",
       " 197441,\n",
       " 541943,\n",
       " 468331,\n",
       " 397699,\n",
       " 478108,\n",
       " 663109,\n",
       " 368874,\n",
       " 578827,\n",
       " 311995,\n",
       " 239135,\n",
       " 112282,\n",
       " 364967,\n",
       " 295457,\n",
       " 204533,\n",
       " 348392,\n",
       " 327449,\n",
       " 648344,\n",
       " 205034,\n",
       " 284731,\n",
       " 29918,\n",
       " 261659,\n",
       " 670460,\n",
       " 692123,\n",
       " 371218,\n",
       " 20114,\n",
       " 5844,\n",
       " 209782,\n",
       " 489153,\n",
       " 473256,\n",
       " 451860,\n",
       " 70549,\n",
       " 429157,\n",
       " 683227,\n",
       " 193451,\n",
       " 652192,\n",
       " 443130,\n",
       " 106653,\n",
       " 582712,\n",
       " 628232,\n",
       " 541682,\n",
       " 206812,\n",
       " 42610,\n",
       " 339124,\n",
       " 527215,\n",
       " 300087,\n",
       " 22845,\n",
       " 542441,\n",
       " 13281,\n",
       " 477905,\n",
       " 232606,\n",
       " 336475,\n",
       " 663428,\n",
       " 301124,\n",
       " 38669,\n",
       " 507137,\n",
       " 230410,\n",
       " 285871,\n",
       " 335101,\n",
       " 117616,\n",
       " 442348]"
      ]
     },
     "execution_count": 46,
     "metadata": {},
     "output_type": "execute_result"
    }
   ],
   "source": [
    "val"
   ]
  },
  {
   "cell_type": "code",
   "execution_count": null,
   "metadata": {},
   "outputs": [],
   "source": []
  }
 ],
 "metadata": {
  "kernelspec": {
   "display_name": "Python 3",
   "language": "python",
   "name": "python3"
  },
  "language_info": {
   "codemirror_mode": {
    "name": "ipython",
    "version": 3
   },
   "file_extension": ".py",
   "mimetype": "text/x-python",
   "name": "python",
   "nbconvert_exporter": "python",
   "pygments_lexer": "ipython3",
   "version": "3.7.7"
  }
 },
 "nbformat": 4,
 "nbformat_minor": 4
}
