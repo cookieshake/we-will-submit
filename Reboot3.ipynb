{
 "cells": [
  {
   "cell_type": "code",
   "execution_count": 1,
   "metadata": {},
   "outputs": [
    {
     "name": "stdout",
     "output_type": "stream",
     "text": [
      "INFO: Pandarallel will run on 8 workers.\n",
      "INFO: Pandarallel will use Memory file system to transfer data between the main process and workers.\n"
     ]
    }
   ],
   "source": [
    "import pandas as pd\n",
    "from pandarallel import pandarallel\n",
    "pandarallel.initialize(nb_workers=8)"
   ]
  },
  {
   "cell_type": "code",
   "execution_count": 2,
   "metadata": {},
   "outputs": [],
   "source": [
    "from itertools import islice\n",
    "import re\n",
    "\n",
    "def cleanse_text(text):\n",
    "    return re.sub('[^0-9a-zA-Zㄱ-힗]', '', text)\n",
    "\n",
    "def window(seq, n=2):\n",
    "    it = iter(seq)\n",
    "    result = tuple(islice(it, n))\n",
    "    if len(result) == n:\n",
    "        yield result\n",
    "    for elem in it:\n",
    "        result = result[1:] + (elem,)\n",
    "        yield result\n",
    "\n",
    "def preprocess_tags(tags):\n",
    "    result = list()\n",
    "    c_tags = [cleanse_text(t) for t in tags]\n",
    "    for t in c_tags:\n",
    "        if len(t) < 2:\n",
    "            result.append(t)\n",
    "        else:\n",
    "            for w in window(t):\n",
    "                result.append(''.join(w))\n",
    "    return list(set(result + tags))\n",
    "\n",
    "def preprocess_title(title):\n",
    "    \"\"\"\n",
    "    result = list()\n",
    "    title = cleanse_text(title)\n",
    "    if len(title) < 2:\n",
    "        result.append(title)\n",
    "    else:\n",
    "        for w in window(title):\n",
    "            result.append(''.join(w))\n",
    "    return result\n",
    "    \"\"\"\n",
    "    return preprocess_tags(title.split(' '))\n",
    "\n",
    "def preprocess_text(df):\n",
    "    df['p_title'] = df['plylst_title'].map(lambda x: preprocess_title(x))\n",
    "    df['p_tags'] = df['tags'].map(lambda x: preprocess_tags(x))"
   ]
  },
  {
   "cell_type": "code",
   "execution_count": 3,
   "metadata": {},
   "outputs": [],
   "source": [
    "df = pd.read_json('./data/train.json')\n",
    "test_offset = len(df) - int(len(df) / 10)\n",
    "train_df, test_df = df[:test_offset], df[test_offset:]\n",
    "train_df.head(5)\n",
    "train_df = df\n",
    "\n",
    "val_df = pd.read_json('./data/val.json')\n",
    "val_df.head()\n",
    "\n",
    "preprocess_text(train_df)\n",
    "preprocess_text(val_df)"
   ]
  },
  {
   "cell_type": "code",
   "execution_count": 6,
   "metadata": {},
   "outputs": [
    {
     "data": {
      "text/plain": [
       "1.3323004245758057"
      ]
     },
     "execution_count": 6,
     "metadata": {},
     "output_type": "execute_result"
    }
   ],
   "source": [
    "from tqdm import tqdm\n",
    "import math\n",
    "\n",
    "def similarity(a, b):\n",
    "    intersection = set(a) & set(b)\n",
    "    r =  len(intersection) / (len(a) + len(b) - len(intersection))\n",
    "    return r\n",
    "\n",
    "def cos_similarity(a, b):\n",
    "    intersection = set(a) & set(b)\n",
    "    return len(intersection) / (math.sqrt(len(a)) * math.sqrt(len(b)))\n",
    "\n",
    "def predict_with_songs(row):\n",
    "    tags = row['tags']\n",
    "    songs = row['songs']\n",
    "    \n",
    "    topk = 25\n",
    "    sim = train_df['songs'].map(lambda x: cos_similarity(x, songs)).sort_values()\n",
    "    while True:\n",
    "        pred_tags = dict()\n",
    "        pred_songs = dict()\n",
    "        \n",
    "        topk_sim = sim[-topk:]\n",
    "        for i, v in zip(topk_sim.index, topk_sim.values):\n",
    "            for tag in train_df['tags'].iat[i]:\n",
    "                pred_tags[tag] = pred_tags.get(tag, 0) + v\n",
    "            for song in train_df['songs'].iat[i]:\n",
    "                pred_songs[song] = pred_songs.get(song, 0) + v\n",
    "\n",
    "        pred_tags = [k for k, v in sorted(pred_tags.items(), key=lambda x: x[1], reverse=True) if k not in tags][:10]\n",
    "        pred_songs = [k for k, v in sorted(pred_songs.items(), key=lambda x: x[1], reverse=True) if k not in songs][:100]\n",
    "        \n",
    "        if len(pred_tags) < 10 or len(pred_songs) < 100:\n",
    "            topk += 25\n",
    "            continue\n",
    "\n",
    "        return row['id'], pred_tags, pred_songs\n",
    "\n",
    "def predict_with_tags(row):\n",
    "    p_tags = row['p_tags']\n",
    "    tags = row['tags']\n",
    "    songs = row['songs']\n",
    "    \n",
    "    topk = 25\n",
    "    sim = train_df['p_tags'].map(lambda x: cos_similarity(x, p_tags)).sort_values()\n",
    "    while True:\n",
    "        pred_tags = dict()\n",
    "        pred_songs = dict()\n",
    "        \n",
    "        topk_sim = sim[-topk:]\n",
    "        for i, v in zip(topk_sim.index, topk_sim.values):\n",
    "            for tag in train_df['tags'].iat[i]:\n",
    "                pred_tags[tag] = pred_tags.get(tag, 0) + v\n",
    "            for song in train_df['songs'].iat[i]:\n",
    "                pred_songs[song] = pred_songs.get(song, 0) + v\n",
    "\n",
    "        pred_tags = [k for k, v in sorted(pred_tags.items(), key=lambda x: x[1], reverse=True) if k not in tags][:10]\n",
    "        pred_songs = [k for k, v in sorted(pred_songs.items(), key=lambda x: x[1], reverse=True) if k not in songs][:100]\n",
    "        \n",
    "        if len(pred_tags) < 10 or len(pred_songs) < 100:\n",
    "            topk += 25\n",
    "            continue\n",
    "\n",
    "        return row['id'], pred_tags, pred_songs\n",
    "    \n",
    "def predict_with_title(row):\n",
    "    p_title = row['p_title']\n",
    "    tags = row['tags']\n",
    "    songs = row['songs']\n",
    "    \n",
    "    topk = 25\n",
    "    sim = train_df['p_title'].map(lambda x: cos_similarity(x, p_title)).sort_values()\n",
    "    while True:\n",
    "        pred_tags = dict()\n",
    "        pred_songs = dict()\n",
    "        \n",
    "        topk_sim = sim[-topk:]\n",
    "        for i, v in zip(topk_sim.index, topk_sim.values):\n",
    "            for tag in train_df['tags'].iat[i]:\n",
    "                pred_tags[tag] = pred_tags.get(tag, 0) + v\n",
    "            for song in train_df['songs'].iat[i]:\n",
    "                pred_songs[song] = pred_songs.get(song, 0) + v\n",
    "\n",
    "        pred_tags = [k for k, v in sorted(pred_tags.items(), key=lambda x: x[1], reverse=True) if k not in tags][:10]\n",
    "        pred_songs = [k for k, v in sorted(pred_songs.items(), key=lambda x: x[1], reverse=True) if k not in songs][:100]\n",
    "        \n",
    "        if len(pred_tags) < 10 or len(pred_songs) < 100:\n",
    "            topk += 25\n",
    "            continue\n",
    "\n",
    "        return row['id'], pred_tags, pred_songs\n",
    "    \n",
    "def predict(row):\n",
    "    songs = row['songs']\n",
    "    tags = row['tags']\n",
    "    if len(songs) != 0:\n",
    "        return predict_with_songs(row)\n",
    "    elif len(tags) != 0:\n",
    "        return predict_with_tags(row)\n",
    "    else:\n",
    "        return predict_with_title(row)\n",
    "\n",
    "import time\n",
    "start = time.time()\n",
    "result = val_df[:10].parallel_apply(predict, axis=1)\n",
    "time.time() - start"
   ]
  },
  {
   "cell_type": "code",
   "execution_count": 5,
   "metadata": {},
   "outputs": [],
   "source": [
    "result_df = pd.DataFrame(list(result.values), columns=['id', 'tags', 'songs'])"
   ]
  },
  {
   "cell_type": "code",
   "execution_count": 6,
   "metadata": {},
   "outputs": [],
   "source": [
    "result_df.to_json('results.json', orient='records', force_ascii=False)"
   ]
  },
  {
   "cell_type": "code",
   "execution_count": null,
   "metadata": {},
   "outputs": [],
   "source": []
  }
 ],
 "metadata": {
  "kernelspec": {
   "display_name": "Python 3",
   "language": "python",
   "name": "python3"
  },
  "language_info": {
   "codemirror_mode": {
    "name": "ipython",
    "version": 3
   },
   "file_extension": ".py",
   "mimetype": "text/x-python",
   "name": "python",
   "nbconvert_exporter": "python",
   "pygments_lexer": "ipython3",
   "version": "3.7.7"
  }
 },
 "nbformat": 4,
 "nbformat_minor": 4
}
